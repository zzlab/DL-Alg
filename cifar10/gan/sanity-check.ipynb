{
 "cells": [
  {
   "cell_type": "code",
   "execution_count": 1,
   "metadata": {
    "collapsed": true
   },
   "outputs": [],
   "source": [
    "import matplotlib.pylab as pl\n",
    "%matplotlib inline\n",
    "import numpy as np0\n",
    "import cPickle as pickle"
   ]
  },
  {
   "cell_type": "code",
   "execution_count": 2,
   "metadata": {
    "collapsed": true
   },
   "outputs": [],
   "source": [
    "data, labels = pickle.load(open('sanity-data', 'rb'))"
   ]
  },
  {
   "cell_type": "code",
   "execution_count": 3,
   "metadata": {
    "collapsed": true
   },
   "outputs": [],
   "source": [
    "import minpy.nn.model_builder as builder\n",
    "import sys\n",
    "sys.path.append('../../nn/')\n",
    "from facility import *\n",
    "from solver_primitives import *"
   ]
  },
  {
   "cell_type": "code",
   "execution_count": 4,
   "metadata": {
    "collapsed": false
   },
   "outputs": [],
   "source": [
    "SHAPE = (64, 64, 4)\n",
    "network = builder.Sequential()\n",
    "for shape in SHAPE[:-1]:\n",
    "    network.append(builder.Affine(shape))\n",
    "    network.append(builder.ReLU())\n",
    "network.append(builder.Affine(SHAPE[-1]))\n",
    "model = builder.Model(network, 'softmax', (2,))\n",
    "initialize(model)\n",
    "updater = Updater(model, 'sgd', {'learning_rate' : 0.3})"
   ]
  },
  {
   "cell_type": "code",
   "execution_count": 5,
   "metadata": {
    "collapsed": false
   },
   "outputs": [
    {
     "name": "stdout",
     "output_type": "stream",
     "text": [
      "0.0690692\n",
      "0.0487682\n",
      "0.0397494\n",
      "0.0343214\n",
      "0.030585\n",
      "0.0278259\n",
      "0.0256715\n",
      "0.0239294\n",
      "0.022479\n",
      "0.021249\n",
      "0.0201862\n",
      "0.0192515\n",
      "0.018387\n",
      "0.0176402\n",
      "0.0169713\n",
      "0.0163644\n",
      "0.01581\n",
      "0.0153005\n",
      "0.0148311\n",
      "0.0143865\n",
      "0.0139817\n",
      "0.0136031\n",
      "0.0132484\n",
      "0.0129153\n",
      "0.0126014\n",
      "0.0123028\n",
      "0.012021\n",
      "0.0117535\n",
      "0.0114991\n",
      "0.011257\n",
      "0.0110259\n",
      "0.0108051\n",
      "0.0105937\n",
      "0.0103908\n",
      "0.0101965\n",
      "0.01001\n",
      "0.00983081\n",
      "0.00965815\n",
      "0.00949138\n",
      "0.00933067\n",
      "0.0091756\n",
      "0.00902209\n",
      "0.0088141\n",
      "0.00867361\n",
      "0.008538\n",
      "0.00840673\n",
      "0.00827952\n",
      "0.00815617\n",
      "0.00803636\n",
      "0.0079118\n"
     ]
    }
   ],
   "source": [
    "ITERATIONS = 5000\n",
    "LOGGING_INTERVAL = 100\n",
    "loss_history = []\n",
    "for i in range(ITERATIONS):\n",
    "    gradients, loss = gradient_loss(model, data, labels)\n",
    "    updater.update(gradients)\n",
    "    loss = to_float(loss)\n",
    "    loss_history.append(loss)\n",
    "#     if (i + 1) % LOGGING_INTERVAL == 0:\n",
    "#         print loss\n",
    "pl.plot(range(ITERATIONS), loss_history)\n",
    "pl.title('loss')"
   ]
  },
  {
   "cell_type": "code",
   "execution_count": 6,
   "metadata": {
    "collapsed": false
   },
   "outputs": [
    {
     "name": "stderr",
     "output_type": "stream",
     "text": [
      "/usr/local/lib/python2.7/dist-packages/matplotlib/collections.py:650: FutureWarning: elementwise comparison failed; returning scalar instead, but in the future will perform elementwise comparison\n",
      "  if self._edgecolors_original != str('face'):\n",
      "/usr/local/lib/python2.7/dist-packages/matplotlib/collections.py:590: FutureWarning: elementwise comparison failed; returning scalar instead, but in the future will perform elementwise comparison\n",
      "  if self._edgecolors == str('face'):\n",
      "/usr/local/lib/python2.7/dist-packages/matplotlib/text.py:52: UnicodeWarning: Unicode equal comparison failed to convert both arguments to Unicode - interpreting them as being unequal\n",
      "  if rotation in ('horizontal', None):\n",
      "/usr/local/lib/python2.7/dist-packages/matplotlib/text.py:54: UnicodeWarning: Unicode equal comparison failed to convert both arguments to Unicode - interpreting them as being unequal\n",
      "  elif rotation == 'vertical':\n"
     ]
    },
    {
     "data": {
      "image/png": "[encoded data removed]",
      "text/plain": [
       "<matplotlib.figure.Figure at 0x7fcf53438e50>"
      ]
     },
     "metadata": {},
     "output_type": "display_data"
    }
   ],
   "source": [
    "N = 256\n",
    "lower, upper = -15, 15\n",
    "X = np0.linspace(lower, upper, N)\n",
    "Y = np0.linspace(lower, upper, N)\n",
    "X, Y = np.meshgrid(X, Y)\n",
    "noise_X = np.vstack((flatten(X), flatten(Y))).T\n",
    "# noise_X = np0.hstack(np0.random.uniform(lower, upper, (N, 1)) for i in range(D))\n",
    "noise_Y = model.forward(noise_X, 'test')\n",
    "noise_class = np.full((N * N,), 3)\n",
    "noise_p = softmax_probability(noise_Y, noise_class)\n",
    "noise_p = noise_p.reshape(X.shape)\n",
    "pl.figure(figsize=(10, 10))\n",
    "c = pl.contour(to_np(X), to_np(Y), to_np(noise_p), 12)\n",
    "pl.clabel(c, fontsize=8)\n",
    "pl.title('probability surface')\n",
    "data_X, data_Y = data.T\n",
    "pl.plot(data_X, data_Y, 'bo')\n",
    "pl.gca().set_aspect('equal')"
   ]
  }
 ],
 "metadata": {
  "kernelspec": {
   "display_name": "Python 2",
   "language": "python",
   "name": "python2"
  },
  "language_info": {
   "codemirror_mode": {
    "name": "ipython",
    "version": 2
   },
   "file_extension": ".py",
   "mimetype": "text/x-python",
   "name": "python",
   "nbconvert_exporter": "python",
   "pygments_lexer": "ipython2",
   "version": "2.7.6"
  }
 },
 "nbformat": 4,
 "nbformat_minor": 0
}
