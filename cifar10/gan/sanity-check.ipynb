{
 "cells": [
  {
   "cell_type": "code",
   "execution_count": 9,
   "metadata": {
    "collapsed": true
   },
   "outputs": [],
   "source": [
    "import cPickle as pickle\n",
    "import matplotlib.pylab as pl\n",
    "%matplotlib inline\n",
    "import minpy.numpy as np\n",
    "import minpy.nn.model_builder as builder\n",
    "from minpy.core import grad_and_loss as _gradient_loss\n",
    "from minpy.context import set_context, gpu, cpu\n",
    "set_context(gpu(0))\n",
    "import numpy as np0\n",
    "from facility import *\n",
    "from solver_primitives import *"
   ]
  },
  {
   "cell_type": "code",
   "execution_count": 7,
   "metadata": {
    "collapsed": true
   },
   "outputs": [],
   "source": [
    "def generate_noise(shape):\n",
    "    return np.random.uniform(-1, 1, shape)\n",
    "\n",
    "def d_gradient_loss(dmodel, gmodel, X):\n",
    "    N, D = X.shape\n",
    "    noise = generate_noise(X.shape)\n",
    "    def _loss(*args):\n",
    "        p_X = dmodel.forward(X, 'train')\n",
    "        generated = gmodel.forward(noise, 'train')\n",
    "        p_generated = dmodel.forward(generated, 'train')\n",
    "        return np.sum(np.log(p_X) + np.log(1 - p_generated), axis=0) / float(N)\n",
    "    gl = _gradient_loss(_loss, range(len(dmodel.params)))\n",
    "    return gl(*dmodel.params.values())\n",
    "\n",
    "def g_gradient_loss(dmodel, gmodel, X):\n",
    "    N, D = X.shape\n",
    "    noise = generate_noise(X.shape)\n",
    "    def _loss(*args):\n",
    "        generated = gmodel.forward(noise, 'train')\n",
    "        p_generated = dmodel.forward(generated, 'train')\n",
    "        return np.sum(np.log(1 - p_generated), axis=0) / float(N)\n",
    "    gl = _gradient_loss(_loss, range(len(gmodel.params)))\n",
    "    return gl(*gmodel.params.values())"
   ]
  },
  {
   "cell_type": "code",
   "execution_count": 8,
   "metadata": {
    "collapsed": false
   },
   "outputs": [],
   "source": [
    "ACTIVATION = 'ReLU'\n",
    "activation = getattr(builder, ACTIVATION)\n",
    "\n",
    "D = 2\n",
    "DSHAPE = (D,) + (16,) * 4 + (1,)\n",
    "dmlp = builder.Sequential()\n",
    "for shape in DSHAPE[:-1]:\n",
    "  dmlp.append(builder.Affine(shape))\n",
    "  dmlp.append(activation())\n",
    "dmlp.append(builder.Affine(DSHAPE[-1]))\n",
    "dmodel = builder.Model(dmlp, 'l2', (D,))\n",
    "initialize(dmodel)\n",
    "dupdater = Updater(dmodel, 'sgd', {'learning_rate' : -0.01})\n",
    "\n",
    "GSHAPE = (16,) * 4 + (D,)\n",
    "gmlp = builder.Sequential()\n",
    "for shape in GSHAPE[:-1]:\n",
    "  gmlp.append(builder.Affine(shape))\n",
    "  gmlp.append(activation())\n",
    "gmlp.append(builder.Affine(GSHAPE[-1]))\n",
    "gmodel = builder.Model(gmlp, 'l2', (D,))\n",
    "initialize(gmodel)\n",
    "gupdater = Updater(gmodel, 'sgd', {'learning_rate' : 0.01})"
   ]
  },
  {
   "cell_type": "code",
   "execution_count": 10,
   "metadata": {
    "collapsed": false
   },
   "outputs": [
    {
     "ename": "TypeError",
     "evalue": "'NoneType' object is not callable",
     "output_type": "error",
     "traceback": [
      "\u001b[0;31m---------------------------------------------------------------------------\u001b[0m",
      "\u001b[0;31mTypeError\u001b[0m                                 Traceback (most recent call last)",
      "\u001b[0;32m<ipython-input-10-2967b8e456da>\u001b[0m in \u001b[0;36m<module>\u001b[0;34m()\u001b[0m\n\u001b[1;32m      9\u001b[0m     \u001b[0;32mfor\u001b[0m \u001b[0mk\u001b[0m \u001b[0;32min\u001b[0m \u001b[0mrange\u001b[0m\u001b[0;34m(\u001b[0m\u001b[0mK\u001b[0m\u001b[0;34m)\u001b[0m\u001b[0;34m:\u001b[0m\u001b[0;34m\u001b[0m\u001b[0m\n\u001b[1;32m     10\u001b[0m         \u001b[0mX_batch\u001b[0m \u001b[0;34m=\u001b[0m \u001b[0mnext\u001b[0m\u001b[0;34m(\u001b[0m\u001b[0mX_batches\u001b[0m\u001b[0;34m)\u001b[0m\u001b[0;34m\u001b[0m\u001b[0m\n\u001b[0;32m---> 11\u001b[0;31m         \u001b[0md_value\u001b[0m\u001b[0;34m,\u001b[0m \u001b[0md_gradients\u001b[0m \u001b[0;34m=\u001b[0m \u001b[0md_gradient_loss\u001b[0m\u001b[0;34m(\u001b[0m\u001b[0mdmodel\u001b[0m\u001b[0;34m,\u001b[0m \u001b[0mgmodel\u001b[0m\u001b[0;34m,\u001b[0m \u001b[0mX_batch\u001b[0m\u001b[0;34m)\u001b[0m\u001b[0;34m\u001b[0m\u001b[0m\n\u001b[0m\u001b[1;32m     12\u001b[0m         \u001b[0mdupdater\u001b[0m\u001b[0;34m.\u001b[0m\u001b[0mupdate\u001b[0m\u001b[0;34m(\u001b[0m\u001b[0md_gradients\u001b[0m\u001b[0;34m)\u001b[0m\u001b[0;34m\u001b[0m\u001b[0m\n\u001b[1;32m     13\u001b[0m     \u001b[0mg_value\u001b[0m\u001b[0;34m,\u001b[0m \u001b[0mg_gradients\u001b[0m \u001b[0;34m=\u001b[0m \u001b[0mg_gradient_loss\u001b[0m\u001b[0;34m(\u001b[0m\u001b[0mdmodel\u001b[0m\u001b[0;34m,\u001b[0m \u001b[0mgmodel\u001b[0m\u001b[0;34m,\u001b[0m \u001b[0mX_batch\u001b[0m\u001b[0;34m)\u001b[0m\u001b[0;34m\u001b[0m\u001b[0m\n",
      "\u001b[0;32m<ipython-input-7-69341d7830d2>\u001b[0m in \u001b[0;36md_gradient_loss\u001b[0;34m(dmodel, gmodel, X)\u001b[0m\n\u001b[1;32m     11\u001b[0m         \u001b[0;32mreturn\u001b[0m \u001b[0mnp\u001b[0m\u001b[0;34m.\u001b[0m\u001b[0msum\u001b[0m\u001b[0;34m(\u001b[0m\u001b[0mnp\u001b[0m\u001b[0;34m.\u001b[0m\u001b[0mlog\u001b[0m\u001b[0;34m(\u001b[0m\u001b[0mp_X\u001b[0m\u001b[0;34m)\u001b[0m \u001b[0;34m+\u001b[0m \u001b[0mnp\u001b[0m\u001b[0;34m.\u001b[0m\u001b[0mlog\u001b[0m\u001b[0;34m(\u001b[0m\u001b[0;36m1\u001b[0m \u001b[0;34m-\u001b[0m \u001b[0mp_generated\u001b[0m\u001b[0;34m)\u001b[0m\u001b[0;34m,\u001b[0m \u001b[0maxis\u001b[0m\u001b[0;34m=\u001b[0m\u001b[0;36m0\u001b[0m\u001b[0;34m)\u001b[0m \u001b[0;34m/\u001b[0m \u001b[0mfloat\u001b[0m\u001b[0;34m(\u001b[0m\u001b[0mN\u001b[0m\u001b[0;34m)\u001b[0m\u001b[0;34m\u001b[0m\u001b[0m\n\u001b[1;32m     12\u001b[0m     \u001b[0mgl\u001b[0m \u001b[0;34m=\u001b[0m \u001b[0m_gradient_loss\u001b[0m\u001b[0;34m(\u001b[0m\u001b[0m_loss\u001b[0m\u001b[0;34m,\u001b[0m \u001b[0mrange\u001b[0m\u001b[0;34m(\u001b[0m\u001b[0mlen\u001b[0m\u001b[0;34m(\u001b[0m\u001b[0mdmodel\u001b[0m\u001b[0;34m.\u001b[0m\u001b[0mparams\u001b[0m\u001b[0;34m)\u001b[0m\u001b[0;34m)\u001b[0m\u001b[0;34m)\u001b[0m\u001b[0;34m\u001b[0m\u001b[0m\n\u001b[0;32m---> 13\u001b[0;31m     \u001b[0;32mreturn\u001b[0m \u001b[0mgl\u001b[0m\u001b[0;34m(\u001b[0m\u001b[0;34m*\u001b[0m\u001b[0mdmodel\u001b[0m\u001b[0;34m.\u001b[0m\u001b[0mparams\u001b[0m\u001b[0;34m.\u001b[0m\u001b[0mvalues\u001b[0m\u001b[0;34m(\u001b[0m\u001b[0;34m)\u001b[0m\u001b[0;34m)\u001b[0m\u001b[0;34m\u001b[0m\u001b[0m\n\u001b[0m\u001b[1;32m     14\u001b[0m \u001b[0;34m\u001b[0m\u001b[0m\n\u001b[1;32m     15\u001b[0m \u001b[0;32mdef\u001b[0m \u001b[0mg_gradient_loss\u001b[0m\u001b[0;34m(\u001b[0m\u001b[0mdmodel\u001b[0m\u001b[0;34m,\u001b[0m \u001b[0mgmodel\u001b[0m\u001b[0;34m,\u001b[0m \u001b[0mX\u001b[0m\u001b[0;34m)\u001b[0m\u001b[0;34m:\u001b[0m\u001b[0;34m\u001b[0m\u001b[0m\n",
      "\u001b[0;32m/usr/local/lib/python2.7/dist-packages/minpy-0.1.7-py2.7.egg/minpy/core.pyc\u001b[0m in \u001b[0;36mwrapped\u001b[0;34m(*args)\u001b[0m\n\u001b[1;32m     39\u001b[0m         \u001b[0;32mfor\u001b[0m \u001b[0mi\u001b[0m \u001b[0;32min\u001b[0m \u001b[0margnums\u001b[0m\u001b[0;34m:\u001b[0m\u001b[0;34m\u001b[0m\u001b[0m\n\u001b[1;32m     40\u001b[0m             grad_vals.append(arrays[i].node.partial_derivative(\n\u001b[0;32m---> 41\u001b[0;31m                 result_array.node))\n\u001b[0m\u001b[1;32m     42\u001b[0m             \u001b[0marrays\u001b[0m\u001b[0;34m[\u001b[0m\u001b[0mi\u001b[0m\u001b[0;34m]\u001b[0m\u001b[0;34m.\u001b[0m\u001b[0m_marked_for_bp\u001b[0m \u001b[0;34m=\u001b[0m \u001b[0mFalse\u001b[0m\u001b[0;34m\u001b[0m\u001b[0m\n\u001b[1;32m     43\u001b[0m         \u001b[0;32mif\u001b[0m \u001b[0mlen\u001b[0m\u001b[0;34m(\u001b[0m\u001b[0mgrad_vals\u001b[0m\u001b[0;34m)\u001b[0m \u001b[0;34m==\u001b[0m \u001b[0;36m1\u001b[0m\u001b[0;34m:\u001b[0m\u001b[0;34m\u001b[0m\u001b[0m\n",
      "\u001b[0;32m/usr/local/lib/python2.7/dist-packages/minpy-0.1.7-py2.7.egg/minpy/array.pyc\u001b[0m in \u001b[0;36mpartial_derivative\u001b[0;34m(self, target)\u001b[0m\n\u001b[1;32m    125\u001b[0m                 \u001b[0;32mfor\u001b[0m \u001b[0mrec\u001b[0m \u001b[0;32min\u001b[0m \u001b[0mnode\u001b[0m\u001b[0;34m.\u001b[0m\u001b[0m_partial_derivatives\u001b[0m\u001b[0;34m:\u001b[0m\u001b[0;34m\u001b[0m\u001b[0m\n\u001b[1;32m    126\u001b[0m                     node._partial_derivative_cache[target] += Value.wrap(\n\u001b[0;32m--> 127\u001b[0;31m                         _call_partial_derivative(rec))\n\u001b[0m\u001b[1;32m    128\u001b[0m \u001b[0;34m\u001b[0m\u001b[0m\n\u001b[1;32m    129\u001b[0m         \u001b[0;32mreturn\u001b[0m \u001b[0mself\u001b[0m\u001b[0;34m.\u001b[0m\u001b[0m_partial_derivative_cache\u001b[0m\u001b[0;34m[\u001b[0m\u001b[0mtarget\u001b[0m\u001b[0;34m]\u001b[0m\u001b[0;34m\u001b[0m\u001b[0m\n",
      "\u001b[0;32m/usr/local/lib/python2.7/dist-packages/minpy-0.1.7-py2.7.egg/minpy/array.pyc\u001b[0m in \u001b[0;36m_call_partial_derivative\u001b[0;34m(rec)\u001b[0m\n\u001b[1;32m     82\u001b[0m             \u001b[0;32mif\u001b[0m \u001b[0mrec\u001b[0m\u001b[0;34m.\u001b[0m\u001b[0mprimitive\u001b[0m\u001b[0;34m.\u001b[0m\u001b[0mtype\u001b[0m \u001b[0;34m==\u001b[0m \u001b[0mArrayType\u001b[0m\u001b[0;34m.\u001b[0m\u001b[0mMXNET\u001b[0m\u001b[0;34m:\u001b[0m\u001b[0;34m\u001b[0m\u001b[0m\n\u001b[1;32m     83\u001b[0m                 \u001b[0;32mwith\u001b[0m \u001b[0mresult_grad\u001b[0m\u001b[0;34m.\u001b[0m\u001b[0mcontext\u001b[0m\u001b[0;34m.\u001b[0m\u001b[0mas_mxnet_context\u001b[0m\u001b[0;34m(\u001b[0m\u001b[0;34m)\u001b[0m \u001b[0;32mas\u001b[0m \u001b[0mctx\u001b[0m\u001b[0;34m:\u001b[0m\u001b[0;34m\u001b[0m\u001b[0m\n\u001b[0;32m---> 84\u001b[0;31m                     \u001b[0mgrad\u001b[0m \u001b[0;34m=\u001b[0m \u001b[0mrec\u001b[0m\u001b[0;34m.\u001b[0m\u001b[0mgrad_func\u001b[0m\u001b[0;34m(\u001b[0m\u001b[0mresult_grad_value\u001b[0m\u001b[0;34m)\u001b[0m\u001b[0;34m\u001b[0m\u001b[0m\n\u001b[0m\u001b[1;32m     85\u001b[0m             \u001b[0;32melse\u001b[0m\u001b[0;34m:\u001b[0m\u001b[0;34m\u001b[0m\u001b[0m\n\u001b[1;32m     86\u001b[0m                 \u001b[0mgrad\u001b[0m \u001b[0;34m=\u001b[0m \u001b[0mrec\u001b[0m\u001b[0;34m.\u001b[0m\u001b[0mgrad_func\u001b[0m\u001b[0;34m(\u001b[0m\u001b[0mresult_grad_value\u001b[0m\u001b[0;34m)\u001b[0m\u001b[0;34m\u001b[0m\u001b[0m\n",
      "\u001b[0;31mTypeError\u001b[0m: 'NoneType' object is not callable"
     ]
    }
   ],
   "source": [
    "BATCH_SIZE = 1000\n",
    "ITERATIONS = 1000\n",
    "K = 1\n",
    "INTERVAL = 10\n",
    "\n",
    "X = pickle.load(open('sanity-data', 'rb'))\n",
    "X_batches = Batches(X, BATCH_SIZE)\n",
    "for i in range(ITERATIONS):\n",
    "    for k in range(K):\n",
    "        X_batch = next(X_batches)\n",
    "        d_value, d_gradients = d_gradient_loss(dmodel, gmodel, X_batch)\n",
    "        dupdater.update(d_gradients)\n",
    "    g_value, g_gradients = g_gradient_loss(dmodel, gmodel, X_batch)\n",
    "    gupdater.update(g_gradients)"
   ]
  }
 ],
 "metadata": {
  "kernelspec": {
   "display_name": "Python 2",
   "language": "python",
   "name": "python2"
  },
  "language_info": {
   "codemirror_mode": {
    "name": "ipython",
    "version": 2
   },
   "file_extension": ".py",
   "mimetype": "text/x-python",
   "name": "python",
   "nbconvert_exporter": "python",
   "pygments_lexer": "ipython2",
   "version": "2.7.6"
  }
 },
 "nbformat": 4,
 "nbformat_minor": 0
}
