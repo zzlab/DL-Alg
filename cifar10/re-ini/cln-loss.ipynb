{
 "cells": [
  {
   "cell_type": "code",
   "execution_count": 1,
   "metadata": {
    "collapsed": true
   },
   "outputs": [],
   "source": [
    "import matplotlib.pylab as pl\n",
    "%matplotlib inline\n",
    "import cPickle as pickle"
   ]
  },
  {
   "cell_type": "code",
   "execution_count": 2,
   "metadata": {
    "collapsed": false
   },
   "outputs": [],
   "source": [
    "cln = pickle.load(open('model/mlp-cln-loss-interval-10-shape-1024-1024-1024-1024-10'))\n",
    "normal = pickle.load(open('model/loss-Tanh'))\n",
    "# cln = pickle.load(open('model/mlp-cln-loss-Sigmoid-interval-10-shape-1024-1024-1024-1024-10'))\n",
    "# normal = pickle.load(open('model/loss-Sigmoid', 'rb'))"
   ]
  },
  {
   "cell_type": "code",
   "execution_count": 3,
   "metadata": {
    "collapsed": false,
    "scrolled": true
   },
   "outputs": [
    {
     "data": {
      "text/plain": [
       "<matplotlib.legend.Legend at 0x7f342fe80310>"
      ]
     },
     "execution_count": 3,
     "metadata": {},
     "output_type": "execute_result"
    },
    {
     "data": {
      "image/png": "[encoded data removed]",
      "text/plain": [
       "<matplotlib.figure.Figure at 0x7f342ff72650>"
      ]
     },
     "metadata": {},
     "output_type": "display_data"
    }
   ],
   "source": [
    "ITERATIONS = 25000\n",
    "pl.plot(range(ITERATIONS), normal, label='normal')\n",
    "pl.plot(range(ITERATIONS), cln, label='cln')\n",
    "pl.legend()"
   ]
  },
  {
   "cell_type": "code",
   "execution_count": 4,
   "metadata": {
    "collapsed": false
   },
   "outputs": [
    {
     "name": "stdout",
     "output_type": "stream",
     "text": [
      "394.814369878 523.21065491\n"
     ]
    }
   ],
   "source": [
    "def turbulence(history):\n",
    "    return sum(abs(left - right) for left, right in zip(history[:-1], history[1:]))\n",
    "turbulence_normal = turbulence(normal)\n",
    "turbulence_cln = turbulence(cln)\n",
    "print turbulence_normal, turbulence_cln"
   ]
  }
 ],
 "metadata": {
  "kernelspec": {
   "display_name": "Python 2",
   "language": "python",
   "name": "python2"
  },
  "language_info": {
   "codemirror_mode": {
    "name": "ipython",
    "version": 2
   },
   "file_extension": ".py",
   "mimetype": "text/x-python",
   "name": "python",
   "nbconvert_exporter": "python",
   "pygments_lexer": "ipython2",
   "version": "2.7.6"
  }
 },
 "nbformat": 4,
 "nbformat_minor": 0
}
