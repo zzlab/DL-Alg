{
 "cells": [
  {
   "cell_type": "code",
   "execution_count": 27,
   "metadata": {
    "collapsed": true
   },
   "outputs": [],
   "source": [
    "import matplotlib.pylab as pl\n",
    "%matplotlib inline\n",
    "import numpy as np\n",
    "# import minpy.numpy as np"
   ]
  },
  {
   "cell_type": "code",
   "execution_count": 3,
   "metadata": {
    "collapsed": true
   },
   "outputs": [],
   "source": [
    "def covariance(left, right):\n",
    "    return np.mean((left - np.mean(left)) * (right - np.mean(right)))"
   ]
  },
  {
   "cell_type": "code",
   "execution_count": 37,
   "metadata": {
    "collapsed": false
   },
   "outputs": [
    {
     "name": "stdout",
     "output_type": "stream",
     "text": [
      "0.0 4.73102100678e-05\n"
     ]
    }
   ],
   "source": [
    "N = 16\n",
    "average_covariance = 0\n",
    "average_rho = 0\n",
    "for i in range(N):\n",
    "    X = np.random.normal(0, 1, (3072, 3072))\n",
    "    Y = np.random.normal(0, 1, (3072, 3072))\n",
    "    c = covariance(X, Y)\n",
    "    result += c\n",
    "    rho = c / (np.std(X) * np.std(Y))\n",
    "    average_rho += rho\n",
    "average_covariance /= float(N)\n",
    "average_rho /= float(N)\n",
    "print average_covariance, average_rho"
   ]
  },
  {
   "cell_type": "code",
   "execution_count": 43,
   "metadata": {
    "collapsed": false
   },
   "outputs": [
    {
     "name": "stdout",
     "output_type": "stream",
     "text": [
      "-0.00221113677024\n"
     ]
    }
   ],
   "source": [
    "N = 20\n",
    "average_covariance = 0\n",
    "for i in range(N):\n",
    "    X = np.random.normal(0, 1, (3072, 3072))\n",
    "    W = np.random.normal(0, 1, (3072, 3072))\n",
    "    Y = np.dot(X, W)\n",
    "    c = covariance(X, Y)\n",
    "    average_covariance += c\n",
    "average_covariance /= float(N)\n",
    "print average_covariance"
   ]
  },
  {
   "cell_type": "code",
   "execution_count": 44,
   "metadata": {
    "collapsed": false
   },
   "outputs": [
    {
     "name": "stdout",
     "output_type": "stream",
     "text": [
      "-5.19129226503e-05\n"
     ]
    }
   ],
   "source": [
    "N = 20\n",
    "average_covariance = 0\n",
    "for i in range(N):\n",
    "    X = np.random.normal(0, 1, (3072, 3072))\n",
    "    Y = np.random.normal(0, 1, (3072, 3072))\n",
    "    c = covariance(X, Y)\n",
    "    average_covariance += c\n",
    "average_covariance /= float(N)\n",
    "print average_covariance"
   ]
  },
  {
   "cell_type": "code",
   "execution_count": 48,
   "metadata": {
    "collapsed": false
   },
   "outputs": [
    {
     "name": "stdout",
     "output_type": "stream",
     "text": [
      "-0.703544727026\n"
     ]
    }
   ],
   "source": [
    "N = 2\n",
    "average_covariance = 0\n",
    "for i in range(N):\n",
    "    X = np.random.normal(0, 1, (100000, 3072))\n",
    "    U = np.random.normal(0, 1, (3072, 3072))\n",
    "    V = np.random.normal(0, 1, (3072, 3072))\n",
    "    XU = np.dot(X, U)\n",
    "    XV = np.dot(X, V)\n",
    "    c = covariance(XU, XV)\n",
    "    average_covariance += c\n",
    "average_covariance /= float(N)\n",
    "print average_covariance"
   ]
  }
 ],
 "metadata": {
  "kernelspec": {
   "display_name": "Python 2",
   "language": "python",
   "name": "python2"
  },
  "language_info": {
   "codemirror_mode": {
    "name": "ipython",
    "version": 2
   },
   "file_extension": ".py",
   "mimetype": "text/x-python",
   "name": "python",
   "nbconvert_exporter": "python",
   "pygments_lexer": "ipython2",
   "version": "2.7.6"
  }
 },
 "nbformat": 4,
 "nbformat_minor": 0
}
