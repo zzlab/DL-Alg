{
 "cells": [
  {
   "cell_type": "code",
   "execution_count": 1,
   "metadata": {
    "collapsed": true
   },
   "outputs": [],
   "source": [
    "import minpy.numpy as np\n",
    "from minpy.context import set_context, gpu\n",
    "set_context(gpu(0))"
   ]
  },
  {
   "cell_type": "code",
   "execution_count": 2,
   "metadata": {
    "collapsed": false
   },
   "outputs": [
    {
     "data": {
      "text/plain": [
       "[ 0.03707837]"
      ]
     },
     "execution_count": 2,
     "metadata": {},
     "output_type": "execute_result"
    }
   ],
   "source": [
    "covariance_table = []\n",
    "for i in range(20):\n",
    "    X = np.random.normal(0, 1, (100000, 3072))\n",
    "    W = np.random.normal(0, 1, (3072, 3072))\n",
    "    Y = np.dot(X, W)\n",
    "    covariance = np.mean((X - np.mean(X)) * (Y - np.mean(Y)))\n",
    "    covariance_table.append(covariance)\n",
    "np.max(np.abs(np.array(covariance_table)))"
   ]
  }
 ],
 "metadata": {
  "kernelspec": {
   "display_name": "Python 2",
   "language": "python",
   "name": "python2"
  },
  "language_info": {
   "codemirror_mode": {
    "name": "ipython",
    "version": 2
   },
   "file_extension": ".py",
   "mimetype": "text/x-python",
   "name": "python",
   "nbconvert_exporter": "python",
   "pygments_lexer": "ipython2",
   "version": "2.7.6"
  }
 },
 "nbformat": 4,
 "nbformat_minor": 0
}
