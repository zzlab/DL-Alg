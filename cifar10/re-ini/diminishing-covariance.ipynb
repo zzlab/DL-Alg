{
 "cells": [
  {
   "cell_type": "code",
   "execution_count": 1,
   "metadata": {
    "collapsed": true
   },
   "outputs": [],
   "source": [
    "import numpy as np"
   ]
  },
  {
   "cell_type": "code",
   "execution_count": 2,
   "metadata": {
    "collapsed": false
   },
   "outputs": [],
   "source": [
    "def covariance(left, right):\n",
    "    return np.mean((left - np.mean(left)) * (right - np.mean(right)))\n",
    "def rho(left, right):\n",
    "    return covariance(left, right) / (np.std(left) * np.std(right))"
   ]
  },
  {
   "cell_type": "code",
   "execution_count": 5,
   "metadata": {
    "collapsed": true
   },
   "outputs": [],
   "source": [
    "shape = (1024, 1024)\n",
    "X = np.random.normal(0, 1, shape)\n",
    "N = 32\n",
    "weights = [np.random.normal(0, 1, shape) for i in range(N)]"
   ]
  },
  {
   "cell_type": "code",
   "execution_count": 6,
   "metadata": {
    "collapsed": false
   },
   "outputs": [
    {
     "name": "stdout",
     "output_type": "stream",
     "text": [
      "-0.000207274198908\n",
      "9.9910077851e-05\n",
      "-0.00124337027249\n",
      "-0.00196593574627\n",
      "-0.00307454366649\n",
      "0.00142721603615\n",
      "-0.00232415669173\n",
      "8.98945064421e-05\n",
      "-0.000354294102438\n",
      "-0.000622602894219\n",
      "-0.000750460817284\n",
      "0.000196544010121\n",
      "0.000701736115342\n",
      "0.00254239866294\n",
      "-0.00102551673409\n",
      "0.000886738873991\n",
      "0.000167841488353\n",
      "-0.000229879070748\n",
      "0.000194377372609\n",
      "-0.000273647641112\n",
      "0.000876529852227\n",
      "-0.00250775799635\n",
      "0.000251540813612\n",
      "0.000454031058383\n",
      "8.34567100786e-05\n",
      "0.000440464734429\n",
      "0.000773069215972\n",
      "-0.00295929394342\n",
      "0.00154363913179\n",
      "-0.000286742688731\n",
      "0.00132001869113\n",
      "0.00162191137296\n"
     ]
    }
   ],
   "source": [
    "Y = X\n",
    "for W in weights:\n",
    "    Y = np.dot(Y, W)\n",
    "    print rho(X, Y)"
   ]
  }
 ],
 "metadata": {
  "kernelspec": {
   "display_name": "Python 2",
   "language": "python",
   "name": "python2"
  },
  "language_info": {
   "codemirror_mode": {
    "name": "ipython",
    "version": 2
   },
   "file_extension": ".py",
   "mimetype": "text/x-python",
   "name": "python",
   "nbconvert_exporter": "python",
   "pygments_lexer": "ipython2",
   "version": "2.7.6"
  }
 },
 "nbformat": 4,
 "nbformat_minor": 0
}
