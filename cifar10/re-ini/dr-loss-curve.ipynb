{
 "cells": [
  {
   "cell_type": "code",
   "execution_count": 1,
   "metadata": {
    "collapsed": true
   },
   "outputs": [],
   "source": [
    "import matplotlib.pylab as pl\n",
    "%matplotlib inline\n",
    "import numpy as np\n",
    "import cPickle as pickle"
   ]
  },
  {
   "cell_type": "code",
   "execution_count": 2,
   "metadata": {
    "collapsed": true
   },
   "outputs": [],
   "source": [
    "SHAPES = ('1024',) * 4 + ('10',)\n"
   ]
  },
  {
   "cell_type": "code",
   "execution_count": 15,
   "metadata": {
    "collapsed": false
   },
   "outputs": [],
   "source": [
    "interval = 1\n",
    "histories = {}\n",
    "for i in range(8):\n",
    "    histories[interval] = pickle.load(\n",
    "        open('model/mlp-dr-loss-interval-%d-shape-%s' % (interval, '-'.join(SHAPES)), 'rb')\n",
    "    )\n",
    "    interval *= 2\n",
    "normal_history = pickle.load(open('model/mlp-loss-normal-shape-1024-1024-1024-1024-10', 'rb'))\n",
    "bn_history = pickle.load(open('model/mlp-loss-bn-shape-1024-1024-1024-1024-10', 'rb'))"
   ]
  },
  {
   "cell_type": "code",
   "execution_count": 16,
   "metadata": {
    "collapsed": false
   },
   "outputs": [
    {
     "data": {
      "text/plain": [
       "<matplotlib.legend.Legend at 0x7f94042ebed0>"
      ]
     },
     "execution_count": 16,
     "metadata": {},
     "output_type": "execute_result"
    },
    {
     "data": {
      "image/png": "[encoded data removed]",
      "text/plain": [
       "<matplotlib.figure.Figure at 0x7f9403a2b250>"
      ]
     },
     "metadata": {},
     "output_type": "display_data"
    }
   ],
   "source": [
    "ITERATIONS = 25000\n",
    "# for key in sorted(histories.keys()):\n",
    "#     pl.plot(range(ITERATIONS), histories[key], label='interval %d' % key)\n",
    "pl.plot(range(ITERATIONS), normal_history, label='normal')\n",
    "pl.plot(range(ITERATIONS), bn_history, label='bn')\n",
    "pl.ylim(0, 3)\n",
    "pl.grid()\n",
    "pl.legend(framealpha=0)"
   ]
  },
  {
   "cell_type": "code",
   "execution_count": 5,
   "metadata": {
    "collapsed": false
   },
   "outputs": [
    {
     "data": {
      "text/plain": [
       "[32, 1, 2, 4, 8, 64, 128, 16]"
      ]
     },
     "execution_count": 5,
     "metadata": {},
     "output_type": "execute_result"
    }
   ],
   "source": [
    "histories.keys()"
   ]
  }
 ],
 "metadata": {
  "kernelspec": {
   "display_name": "Python 2",
   "language": "python",
   "name": "python2"
  },
  "language_info": {
   "codemirror_mode": {
    "name": "ipython",
    "version": 2
   },
   "file_extension": ".py",
   "mimetype": "text/x-python",
   "name": "python",
   "nbconvert_exporter": "python",
   "pygments_lexer": "ipython2",
   "version": "2.7.6"
  }
 },
 "nbformat": 4,
 "nbformat_minor": 0
}
