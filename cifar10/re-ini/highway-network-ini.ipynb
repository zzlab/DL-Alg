{
 "cells": [
  {
   "cell_type": "code",
   "execution_count": 1,
   "metadata": {
    "collapsed": true
   },
   "outputs": [],
   "source": [
    "import numpy as np\n",
    "import matplotlib.pylab as pl\n",
    "%matplotlib inline"
   ]
  },
  {
   "cell_type": "code",
   "execution_count": 2,
   "metadata": {
    "collapsed": false
   },
   "outputs": [],
   "source": [
    "activations = {\n",
    "    'ReLU' : (lambda X : np.maximum(0, X)),\n",
    "    'sigmoid' : (lambda X : 1 / (1 + np.exp(-X))),\n",
    "    'tanh' : (lambda X : 1.88 * np.tanh(X)),\n",
    "} # TODO validate the ratio is 1 / b\n",
    "a = 'tanh'\n",
    "HIDDEN_LAYERS = 10\n",
    "N = 3072\n",
    "ratio = 0.3\n",
    "z = 0.5\n",
    "def highway(X, U, V, bias):\n",
    "    Y = np.dot(X, U) + bias\n",
    "    f_Y = activations[a](Y)\n",
    "    Z = activations['sigmoid'](np.dot(X, V))\n",
    "    output = Z * X + (1 - Z) * f_Y\n",
    "    return output"
   ]
  },
  {
   "cell_type": "code",
   "execution_count": 9,
   "metadata": {
    "collapsed": false
   },
   "outputs": [
    {
     "name": "stdout",
     "output_type": "stream",
     "text": [
      "10.4166666667\n"
     ]
    }
   ],
   "source": [
    "std = (1 / float(N * ratio ** 2) * (1 + z) / (1 - z)) ** 0.5 * 100\n",
    "print std"
   ]
  },
  {
   "cell_type": "code",
   "execution_count": 11,
   "metadata": {
    "collapsed": false
   },
   "outputs": [],
   "source": [
    "shapes = (N,) * HIDDEN_LAYERS + (N,)\n",
    "weight_shapes = [(d, shapes[i + 1]) for i, d in enumerate(shapes[:-1])]\n",
    "Us = [np.random.normal(0, std, shape) for shape in weight_shapes]\n",
    "Vs = [np.random.normal(0, std, shape) for shape in weight_shapes]\n",
    "biases = [np.zeros(d) for d in shapes[1:]]"
   ]
  },
  {
   "cell_type": "code",
   "execution_count": 13,
   "metadata": {
    "collapsed": false
   },
   "outputs": [
    {
     "name": "stdout",
     "output_type": "stream",
     "text": [
      "1.00033447938\n"
     ]
    },
    {
     "name": "stderr",
     "output_type": "stream",
     "text": [
      "/usr/local/lib/python2.7/dist-packages/ipykernel/__main__.py:3: RuntimeWarning: overflow encountered in exp\n",
      "  app.launch_new_instance()\n"
     ]
    },
    {
     "name": "stdout",
     "output_type": "stream",
     "text": [
      "1.50394913669\n",
      "1.70129458909\n",
      "1.79168556958\n",
      "1.83515897937\n",
      "1.85658819824\n",
      "1.86726949414\n",
      "1.87265185996\n",
      "1.87530729981\n",
      "1.87660705834\n"
     ]
    }
   ],
   "source": [
    "X = np.random.normal(0, 1.0, (1000, 3072))\n",
    "for U, V, bias in zip(Us, Vs, biases):\n",
    "    print X.std()\n",
    "    X = highway(X, U, V, bias)"
   ]
  }
 ],
 "metadata": {
  "kernelspec": {
   "display_name": "Python 2",
   "language": "python",
   "name": "python2"
  },
  "language_info": {
   "codemirror_mode": {
    "name": "ipython",
    "version": 2
   },
   "file_extension": ".py",
   "mimetype": "text/x-python",
   "name": "python",
   "nbconvert_exporter": "python",
   "pygments_lexer": "ipython2",
   "version": "2.7.6"
  }
 },
 "nbformat": 4,
 "nbformat_minor": 0
}
