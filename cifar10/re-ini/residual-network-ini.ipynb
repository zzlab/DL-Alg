{
 "cells": [
  {
   "cell_type": "code",
   "execution_count": 1,
   "metadata": {
    "collapsed": true
   },
   "outputs": [],
   "source": [
    "import numpy as np\n",
    "import matplotlib.pylab as pl\n",
    "%matplotlib inline"
   ]
  },
  {
   "cell_type": "code",
   "execution_count": 10,
   "metadata": {
    "collapsed": true
   },
   "outputs": [],
   "source": [
    "activations = {\n",
    "    'ReLU' : (lambda X : np.maximum(0, X)),\n",
    "    'tanh' : np.tanh,\n",
    "}\n",
    "a = 'tanh'\n",
    "HIDDEN_LAYERS = 6\n",
    "N = 3072\n",
    "ratio = 0.3\n",
    "z = 0.5\n",
    "def residual(X, W, bias):\n",
    "    Y = np.dot(X, W) + bias\n",
    "    f_Y = activations[a](Y)\n",
    "    output = z * X + (1 - z) * f_Y\n",
    "    return output"
   ]
  },
  {
   "cell_type": "code",
   "execution_count": 3,
   "metadata": {
    "collapsed": true
   },
   "outputs": [],
   "source": [
    "std = (1 / float(N * ratio ** 2) * (1 + z) / (1 - z)) ** 0.5"
   ]
  },
  {
   "cell_type": "code",
   "execution_count": 4,
   "metadata": {
    "collapsed": false
   },
   "outputs": [],
   "source": [
    "shapes = (N,) * HIDDEN_LAYERS + (N,)\n",
    "weight_shapes = ((d, shapes[i + 1]) for i, d in enumerate(shapes[:-1]))\n",
    "weights = [np.random.normal(0, std, shape) for shape in weight_shapes]\n",
    "biases = [np.zeros(d) for d in shapes[1:]]"
   ]
  },
  {
   "cell_type": "code",
   "execution_count": 11,
   "metadata": {
    "collapsed": false
   },
   "outputs": [
    {
     "name": "stdout",
     "output_type": "stream",
     "text": [
      "0.499713094499\n",
      "0.410342953598\n",
      "0.360536080627\n",
      "0.330392727893\n",
      "0.310900885022\n",
      "0.297889156371\n"
     ]
    }
   ],
   "source": [
    "X = np.random.normal(0, 0.5, (1000, 3072))\n",
    "for index, W in enumerate(weights):\n",
    "    print X.std()\n",
    "    X = residual(X, W, biases[index])"
   ]
  }
 ],
 "metadata": {
  "kernelspec": {
   "display_name": "Python 2",
   "language": "python",
   "name": "python2"
  },
  "language_info": {
   "codemirror_mode": {
    "name": "ipython",
    "version": 2
   },
   "file_extension": ".py",
   "mimetype": "text/x-python",
   "name": "python",
   "nbconvert_exporter": "python",
   "pygments_lexer": "ipython2",
   "version": "2.7.6"
  }
 },
 "nbformat": 4,
 "nbformat_minor": 0
}
