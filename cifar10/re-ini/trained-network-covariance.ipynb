{
 "cells": [
  {
   "cell_type": "code",
   "execution_count": 1,
   "metadata": {
    "collapsed": true
   },
   "outputs": [],
   "source": [
    "from minpy.core import grad as gradient\n",
    "from minpy.nn.layers import softmax_loss as softmax\n",
    "import minpy.numpy as np\n",
    "from minpy.context import set_context, cpu\n",
    "set_context(cpu())"
   ]
  },
  {
   "cell_type": "code",
   "execution_count": 2,
   "metadata": {
    "collapsed": false
   },
   "outputs": [],
   "source": [
    "import sys\n",
    "sys.path.append('../')\n",
    "from utilities.data_utility import load_cifar10\n",
    "X, labels, _, _, _, _ = load_cifar10('../utilities/cifar/', center=True, rescale=True)"
   ]
  },
  {
   "cell_type": "code",
   "execution_count": 3,
   "metadata": {
    "collapsed": true
   },
   "outputs": [],
   "source": [
    "# LAYERS = 4\n",
    "# dimensions = (3072,) * LAYERS + (10,)\n",
    "# weights = []\n",
    "# for shape in zip(dimensions[:-1], dimensions[1:]):\n",
    "#     weights.append(np.random.normal(0, 0.1, shape))\n",
    "# biases = [np.zeros(n) for n in dimensions[1:]]"
   ]
  },
  {
   "cell_type": "code",
   "execution_count": 4,
   "metadata": {
    "collapsed": true
   },
   "outputs": [],
   "source": [
    "import cPickle as pickle\n",
    "parameters = pickle.load(open('training-parameters-checkpoints/parameters-iteration-10000', 'rb'))"
   ]
  },
  {
   "cell_type": "code",
   "execution_count": 5,
   "metadata": {
    "collapsed": false
   },
   "outputs": [
    {
     "name": "stdout",
     "output_type": "stream",
     "text": [
      "fullyconnected3_weight (1024, 1024)\n",
      "fullyconnected1_bias (1024,)\n",
      "fullyconnected4_weight (1024, 10)\n",
      "fullyconnected4_bias (10,)\n",
      "fullyconnected2_bias (1024,)\n",
      "fullyconnected0_weight (3072, 1024)\n",
      "fullyconnected0_bias (1024,)\n",
      "fullyconnected2_weight (1024, 1024)\n",
      "fullyconnected1_weight (1024, 1024)\n",
      "fullyconnected3_bias (1024,)\n"
     ]
    }
   ],
   "source": [
    "for key, value in parameters.items():\n",
    "    print key, value.shape"
   ]
  },
  {
   "cell_type": "code",
   "execution_count": 6,
   "metadata": {
    "collapsed": true
   },
   "outputs": [],
   "source": [
    "weights = [parameters['fullyconnected%d_weight' % i] for i in range(5)]\n",
    "biases = [parameters['fullyconnected%d_bias' % i] for i in range(5)]"
   ]
  },
  {
   "cell_type": "code",
   "execution_count": 7,
   "metadata": {
    "collapsed": true
   },
   "outputs": [],
   "source": [
    "Z = 0.0\n",
    "X_cache = []\n",
    "Y_cache = []\n",
    "activate = lambda X : np.maximum(0, X)\n",
    "def forward_layer(X, W, bias):\n",
    "    Y = np.dot(X, W) + bias\n",
    "#     output = Z * activate(Y) + (1 - Z) * X\n",
    "    output = activate(Y)\n",
    "    return output\n",
    "def cached_forward(X, W, bias):\n",
    "    X_cache.append(X)\n",
    "    Y = np.dot(X, W) + bias\n",
    "    Y_cache.append(Y)\n",
    "#     output = Z * activate(Y) + (1 - Z) * X\n",
    "    output = activate(Y)\n",
    "    return output"
   ]
  },
  {
   "cell_type": "code",
   "execution_count": 8,
   "metadata": {
    "collapsed": false
   },
   "outputs": [],
   "source": [
    "N = 1024\n",
    "output = X[:N]\n",
    "for weight, bias in zip(weights[:-1], biases[:-1]):\n",
    "    output = cached_forward(output, weight, bias)\n",
    "predictions = np.dot(output, weights[-1]) + biases[-1]"
   ]
  },
  {
   "cell_type": "code",
   "execution_count": 16,
   "metadata": {
    "collapsed": true
   },
   "outputs": [],
   "source": [
    "def partial_forward(X, Y, i):\n",
    "#     output = Z * activate(Y) + (1 - Z) * X\n",
    "    output = activate(Y)\n",
    "#     start = i.asnumpy() + 1\n",
    "    start = i + 1\n",
    "    for weight, bias in zip(weights[start : -1], biases[start : -1]):\n",
    "        output = forward_layer(output, weight, bias)\n",
    "    predictions = np.dot(output, weights[-1]) + biases[-1]\n",
    "    return softmax(predictions, labels[:N])"
   ]
  },
  {
   "cell_type": "code",
   "execution_count": 10,
   "metadata": {
    "collapsed": true
   },
   "outputs": [],
   "source": [
    "g = gradient(partial_forward, range(2))"
   ]
  },
  {
   "cell_type": "code",
   "execution_count": 11,
   "metadata": {
    "collapsed": false
   },
   "outputs": [],
   "source": [
    "dX_cache = []\n",
    "dY_cache = []\n",
    "for index, cache in enumerate(zip(X_cache, Y_cache)):\n",
    "    X, Y = cache\n",
    "    dX, dY = g(X, Y, index)\n",
    "    dX_cache.append(dX)\n",
    "    dY_cache.append(dY)"
   ]
  },
  {
   "cell_type": "code",
   "execution_count": 60,
   "metadata": {
    "collapsed": false
   },
   "outputs": [],
   "source": [
    "def covariance(left, right):\n",
    "    return np.mean((left - np.mean(left)) * (right - np.mean(right)))\n",
    "def cco(left, right):\n",
    "    factor = 1\n",
    "    return (covariance(left, right) * factor) / (np.std(left) * np.std(right) * factor)"
   ]
  },
  {
   "cell_type": "code",
   "execution_count": 56,
   "metadata": {
    "collapsed": false
   },
   "outputs": [
    {
     "name": "stdout",
     "output_type": "stream",
     "text": [
      "X Y -0.796023 Y dY 8.21571e-08 X dY -1.67065e-08\n",
      "X Y -0.243009 Y dY 3.22914e-08 X dY 1.74822e-08\n",
      "X Y -0.269953 Y dY 6.45694e-08 X dY 7.12108e-10\n"
     ]
    }
   ],
   "source": [
    "for X, Y, dX, dY in zip(X_cache, Y_cache, dX_cache, dY_cache):\n",
    "    if X.shape == Y.shape:\n",
    "        print \\\n",
    "            'X Y', covariance(X, Y), \\\n",
    "            'Y dY', covariance(Y, dY), \\\n",
    "            'X dY', covariance(X, dY)"
   ]
  },
  {
   "cell_type": "code",
   "execution_count": 62,
   "metadata": {
    "collapsed": false
   },
   "outputs": [
    {
     "name": "stdout",
     "output_type": "stream",
     "text": [
      "X Y -0.0441406321474 Y dY 0.00103920118835 X dY -0.000741838605897\n",
      "X Y -0.0182333580785 Y dY 0.000493072213104 X dY 0.00068771330996\n",
      "X Y -0.0370194778368 Y dY 0.00129204010315 X dY 3.35408018416e-05\n"
     ]
    }
   ],
   "source": [
    "for X, Y, dX, dY in zip(X_cache, Y_cache, dX_cache, dY_cache):\n",
    "    if X.shape == Y.shape:\n",
    "        print \\\n",
    "            'X Y', cco(X, Y), \\\n",
    "            'Y dY', cco(Y, dY), \\\n",
    "            'X dY', cco(X, dY)"
   ]
  },
  {
   "cell_type": "code",
   "execution_count": 53,
   "metadata": {
    "collapsed": false
   },
   "outputs": [
    {
     "name": "stdout",
     "output_type": "stream",
     "text": [
      "[-0.00052877] [ 0.0006162]\n",
      "[-0.00049199] [ 0.0006672]\n",
      "[-0.00058099] [ 0.00047715]\n",
      "[-0.0005451] [ 0.00047315]\n"
     ]
    }
   ],
   "source": [
    "for dY in dY_cache:\n",
    "    print np.min(dY), np.max(dY)"
   ]
  },
  {
   "cell_type": "code",
   "execution_count": 36,
   "metadata": {
    "collapsed": false
   },
   "outputs": [
    {
     "name": "stdout",
     "output_type": "stream",
     "text": [
      "-0.0131724\n",
      "-0.00041111\n"
     ]
    }
   ],
   "source": [
    "c = []\n",
    "rho = []\n",
    "for i in range(16):\n",
    "    P = np.random.normal(0, 1, (1024, 1024))\n",
    "    Q = np.random.normal(0, 1, (1024, 1024))\n",
    "    R = np.dot(P, Q)\n",
    "    c.append(covariance(P, R))\n",
    "    rho.append(cco(P, R))\n",
    "print np.mean(np.array(c))\n",
    "print np.mean(np.array(rho))"
   ]
  },
  {
   "cell_type": "code",
   "execution_count": 57,
   "metadata": {
    "collapsed": false
   },
   "outputs": [
    {
     "name": "stdout",
     "output_type": "stream",
     "text": [
      "W X -4.76798e-05 W Y 0.00605928 W, dY 1.60163e-10\n",
      "W X 0.000126902 W Y 0.00196992 W, dY 8.16905e-10\n",
      "W X -9.02909e-06 W Y 0.00132417 W, dY 1.62051e-09\n"
     ]
    }
   ],
   "source": [
    "for W, X, Y, dX, dY in zip(weights[:-1], X_cache, Y_cache, dX_cache, dY_cache):\n",
    "    if X.shape == Y.shape:\n",
    "        print \\\n",
    "            'W X', covariance(W, X), \\\n",
    "            'W Y', covariance(W, Y), \\\n",
    "            'W, dY', covariance(W, dY)"
   ]
  },
  {
   "cell_type": "code",
   "execution_count": 68,
   "metadata": {
    "collapsed": false
   },
   "outputs": [],
   "source": [
    "dfY_cache = [(X > 0).asnumpy().astype(int) for X in X_cache[1:]]"
   ]
  },
  {
   "cell_type": "code",
   "execution_count": 66,
   "metadata": {
    "collapsed": false
   },
   "outputs": [
    {
     "name": "stdout",
     "output_type": "stream",
     "text": [
      "<type 'numpy.ndarray'>\n",
      "<class 'minpy.array.Array'>\n",
      "<class 'minpy.array.Array'>\n",
      "<class 'minpy.array.Array'>\n"
     ]
    }
   ],
   "source": [
    "for "
   ]
  }
 ],
 "metadata": {
  "kernelspec": {
   "display_name": "Python 2",
   "language": "python",
   "name": "python2"
  },
  "language_info": {
   "codemirror_mode": {
    "name": "ipython",
    "version": 2
   },
   "file_extension": ".py",
   "mimetype": "text/x-python",
   "name": "python",
   "nbconvert_exporter": "python",
   "pygments_lexer": "ipython2",
   "version": "2.7.6"
  }
 },
 "nbformat": 4,
 "nbformat_minor": 0
}
