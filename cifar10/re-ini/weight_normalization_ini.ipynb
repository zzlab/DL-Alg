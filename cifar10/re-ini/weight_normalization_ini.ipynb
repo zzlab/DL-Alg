{
 "cells": [
  {
   "cell_type": "code",
   "execution_count": 1,
   "metadata": {
    "collapsed": true
   },
   "outputs": [],
   "source": [
    "import numpy as np\n",
    "import numpy.linalg as la"
   ]
  },
  {
   "cell_type": "code",
   "execution_count": 2,
   "metadata": {
    "collapsed": false
   },
   "outputs": [
    {
     "data": {
      "text/plain": [
       "1.0001278840690759"
      ]
     },
     "execution_count": 2,
     "metadata": {},
     "output_type": "execute_result"
    }
   ],
   "source": [
    "N = 1000\n",
    "connections = 4096\n",
    "D = 1024\n",
    "X = np.random.normal(0, 1, (N, connections))\n",
    "W = np.random.normal(0, 1, (connections, D))\n",
    "weight_norm = la.norm(W, axis=0)\n",
    "E_X_2 = np.mean(X ** 2, axis=0)\n",
    "g = 1 / E_X_2 ** 0.5\n",
    "g = g.reshape((connections, 1))\n",
    "Y = np.dot(X, g * W / weight_norm)\n",
    "Y.std()"
   ]
  }
 ],
 "metadata": {
  "kernelspec": {
   "display_name": "Python 2",
   "language": "python",
   "name": "python2"
  },
  "language_info": {
   "codemirror_mode": {
    "name": "ipython",
    "version": 2
   },
   "file_extension": ".py",
   "mimetype": "text/x-python",
   "name": "python",
   "nbconvert_exporter": "python",
   "pygments_lexer": "ipython2",
   "version": "2.7.6"
  }
 },
 "nbformat": 4,
 "nbformat_minor": 0
}
