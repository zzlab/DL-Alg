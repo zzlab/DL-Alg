{
 "cells": [
  {
   "cell_type": "code",
   "execution_count": 1,
   "metadata": {
    "collapsed": false
   },
   "outputs": [
    {
     "ename": "ImportError",
     "evalue": "No module named std_estimator",
     "output_type": "error",
     "traceback": [
      "\u001b[1;31m---------------------------------------------------------------------------\u001b[0m",
      "\u001b[1;31mImportError\u001b[0m                               Traceback (most recent call last)",
      "\u001b[1;32m<ipython-input-1-8f718d15b536>\u001b[0m in \u001b[0;36m<module>\u001b[1;34m()\u001b[0m\n\u001b[0;32m      3\u001b[0m \u001b[1;32mimport\u001b[0m \u001b[0mminpy\u001b[0m\u001b[1;33m.\u001b[0m\u001b[0mnumpy\u001b[0m \u001b[1;32mas\u001b[0m \u001b[0mnp\u001b[0m\u001b[1;33m\u001b[0m\u001b[0m\n\u001b[0;32m      4\u001b[0m \u001b[1;32mfrom\u001b[0m \u001b[0mscipy\u001b[0m\u001b[1;33m.\u001b[0m\u001b[0mstats\u001b[0m \u001b[1;32mimport\u001b[0m \u001b[0mnorm\u001b[0m \u001b[1;32mas\u001b[0m \u001b[0mgaussian\u001b[0m\u001b[1;33m\u001b[0m\u001b[0m\n\u001b[1;32m----> 5\u001b[1;33m \u001b[1;32mfrom\u001b[0m \u001b[0mstd_estimator\u001b[0m \u001b[1;32mimport\u001b[0m \u001b[0mstd\u001b[0m\u001b[1;33m\u001b[0m\u001b[0m\n\u001b[0m",
      "\u001b[1;31mImportError\u001b[0m: No module named std_estimator"
     ]
    }
   ],
   "source": [
    "import matplotlib.pylab as pl\n",
    "%matplotlib inline\n",
    "import minpy.numpy as np\n",
    "from scipy.stats import norm as gaussian\n",
    "from std_estimator import std"
   ]
  },
  {
   "cell_type": "code",
   "execution_count": null,
   "metadata": {
    "collapsed": true
   },
   "outputs": [],
   "source": [
    "limit = 0.5\n",
    "activations = {'symmetric DReLU' : lambda X: np.minimum(limit, np.maximum(-limit, X))}"
   ]
  },
  {
   "cell_type": "code",
   "execution_count": null,
   "metadata": {
    "collapsed": true
   },
   "outputs": [],
   "source": [
    "import sys\n",
    "sys.path.append('../cifar10')\n",
    "from utilities.data_utility import load_cifar10\n",
    "data = load_cifar10('../cifar10/utilities/cifar/', rescale=True)"
   ]
  },
  {
   "cell_type": "code",
   "execution_count": null,
   "metadata": {
    "collapsed": false
   },
   "outputs": [],
   "source": [
    "# X = np.random.normal(0, 1, (10000, 3072))\n",
    "X = np.copy(data[2])\n",
    "D = [3072, 1024, 512, 256, 128, 64, 16]\n",
    "# D = (3072,) + (1024,) * 6\n",
    "weights = [np.random.normal(0, 1 / float(D[0]) ** 0.5, (D[0], D[1]))]\n",
    "weights += \\\n",
    "    [np.random.normal(0, 1 / (std(limit) * float(D[i]) ** 0.5), (D[i], D[i + 1])) for i in range(1, len(D) - 1)]"
   ]
  },
  {
   "cell_type": "code",
   "execution_count": null,
   "metadata": {
    "collapsed": false
   },
   "outputs": [],
   "source": [
    "BINS = 256\n",
    "linespace = np.linspace(-4, 4, 1000).asnumpy()\n",
    "\n",
    "for key, activation in activations.items():\n",
    "    inputs = X\n",
    "    pl.plot(linespace, gaussian.pdf(linespace))\n",
    "    pl.hist(inputs.asnumpy().flatten(), bins=BINS, normed=True, label='inputs')\n",
    "    pl.legend()\n",
    "    for index, W in enumerate(weights):\n",
    "        inputs = np.dot(inputs, W)\n",
    "        \n",
    "        pl.figure()\n",
    "        pl.title('%s layer %d' % (key, index))\n",
    "        pl.hist(inputs.asnumpy().flatten(), bins=BINS, normed=True)\n",
    "        pl.plot(linespace, gaussian.pdf(linespace))\n",
    "        \n",
    "        pre_mean = np.mean(inputs)\n",
    "        pre_std = np.std(inputs)\n",
    "        inputs = activation(inputs)\n",
    "        post_mean = np.mean(inputs)\n",
    "        post_std = np.std(inputs)\n",
    "#         print pre_mean, post_mean\n",
    "        print 'pre-activation: {:<8} post-activation: {:<8} ratio: {:<8}'.format(\n",
    "            pre_std,\n",
    "            post_std,\n",
    "            post_std / pre_std\n",
    "        )"
   ]
  }
 ],
 "metadata": {
  "kernelspec": {
   "display_name": "Python 2",
   "language": "python",
   "name": "python2"
  },
  "language_info": {
   "codemirror_mode": {
    "name": "ipython",
    "version": 2
   },
   "file_extension": ".py",
   "mimetype": "text/x-python",
   "name": "python",
   "nbconvert_exporter": "python",
   "pygments_lexer": "ipython2",
   "version": "2.7.6"
  }
 },
 "nbformat": 4,
 "nbformat_minor": 1
}
